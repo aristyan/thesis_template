{
 "cells": [
  {
   "cell_type": "markdown",
   "id": "c447b349-1341-4037-810a-1dcc66d3434a",
   "metadata": {
    "tags": []
   },
   "source": [
    "<img src = \"https://drive.google.com/uc?export=view&id=1O_GIqeNM4LCwbcoN9tVKHbW3UR_N9yDu\">\n",
    "\n",
    "# Thesis: Segmentation of Electron Microscopy Kidney Biopsy Images\n",
    "<b>Name</b>: Aristotelis Styanidis |\n",
    "<b>Date</b>: January 2023\n",
    "---\n",
    "This document is structured as follows:\n",
    "* [Importing packages](#Importing-packages)\n",
    "* [I. Loading Data](#I.-Loading-Data) \n",
    "* [II. Data Preprocessing](#II.-Data-Preprocessing)\n",
    "* [III. Dataset and DataLoader](#III.-Dataset-and-DataLoader)\n",
    "* [IV. The Model](#IV.-The-Model)\n",
    "* [V. Loss function and Optimizer](#V.-Loss-function-and-Optimizer)\n",
    "* [VI. Saving the model](#VI.-Saving-the-model)\n",
    "* [VII. Training and evaluating the model](#VII.-Training-and-evaluating-the-model)\n",
    "* [VIII. Testing the model on the test data](#VIII.-Testing-the-model-on-the-test-data)\n",
    "* [IX. Results](#IX.-Results)\n",
    "\n",
    "This template notebook demonstrates the required steps in order to train and evaluate a U-Net model. "
   ]
  },
  {
   "cell_type": "markdown",
   "id": "1cae4b3d-a525-4e77-b52f-4627cfacc0f7",
   "metadata": {
    "tags": []
   },
   "source": [
    "## Importing packages\n",
    "[Back](#Thesis:-Segmentation-of-Electron-Microscopy-Kidney-Biopsy-Images)"
   ]
  },
  {
   "cell_type": "code",
   "execution_count": 1,
   "id": "5038bb01-190b-4c58-8d9d-0a6378760695",
   "metadata": {},
   "outputs": [],
   "source": [
    "from cgi import test\n",
    "import time\n",
    "import enum\n",
    "from json import load\n",
    "from operator import index\n",
    "import os\n",
    "from cv2 import imshow\n",
    "from matplotlib import image \n",
    "import numpy as np\n",
    "import cv2\n",
    "from glob import glob\n",
    "from tqdm import tqdm\n",
    "import imageio\n",
    "from albumentations import HorizontalFlip, VerticalFlip, Rotate, Transpose, GaussNoise\n",
    "from patchify import patchify, unpatchify\n",
    "import matplotlib.pyplot as plt"
   ]
  },
  {
   "cell_type": "code",
   "execution_count": 2,
   "id": "8b011999-82ef-4f8a-8695-1712ab2f6f62",
   "metadata": {},
   "outputs": [],
   "source": [
    "import torch\n",
    "import torchvision\n",
    "import torchvision.transforms as transforms\n",
    "from torch.utils.data import Dataset, DataLoader\n",
    "\n",
    "from model import build_unet"
   ]
  },
  {
   "cell_type": "code",
   "execution_count": 3,
   "id": "552e5940-0ca0-45d4-8ba4-e7fc00f856f9",
   "metadata": {},
   "outputs": [],
   "source": [
    "import time\n",
    "import os\n",
    "import numpy as np\n",
    "import cv2\n",
    "from glob import glob\n",
    "from sklearn.model_selection import KFold, train_test_split\n",
    "import torch\n",
    "from torch.utils.data import DataLoader\n",
    "\n",
    "from utils import epoch_time, get_image_names, get_paths, seeding, rgb2mask\n",
    "from model import build_unet\n",
    "import albumentations as A\n",
    "from loss import DiceLoss, DiceBCELoss, CELoss\n",
    "from data import CustomDataset\n",
    "\n",
    "import pandas as pd"
   ]
  },
  {
   "cell_type": "code",
   "execution_count": 4,
   "id": "aa931099-a47a-483e-8b8c-632d5fa6cd56",
   "metadata": {},
   "outputs": [],
   "source": [
    "# 0: background, 1: podocytes, 2: gbm\n",
    "LABEL_TO_COLOR = {0:[0,0,0], 1:[0,255,0], 2:[255,0,0]}"
   ]
  },
  {
   "cell_type": "markdown",
   "id": "2c163d66-56a6-4a02-a781-ab0a63b76576",
   "metadata": {},
   "source": [
    "## I. Loading Data\n",
    "[Back](#Thesis:-Segmentation-of-Electron-Microscopy-Kidney-Biopsy-Images)"
   ]
  },
  {
   "cell_type": "code",
   "execution_count": 5,
   "id": "b13c090d-674c-437f-aad3-c781245d15d3",
   "metadata": {},
   "outputs": [
    {
     "name": "stdout",
     "output_type": "stream",
     "text": [
      "Number of Images: 10\n",
      "Number of RGB Masks: 10\n"
     ]
    }
   ],
   "source": [
    "\"\"\" Seeding \"\"\"\n",
    "seeding(42)\n",
    "\n",
    "\"\"\" Loading the original images and masks \"\"\"\n",
    "path = \"../dataset\"\n",
    "\n",
    "images = np.array(sorted(glob(os.path.join(path, \"images\", \"*.tif\"))))\n",
    "masks = np.array(sorted(glob(os.path.join(path, \"masks_rgb\", \"*.png\"))))\n",
    "\n",
    "print(f\"Number of Images: {len(images)}\")\n",
    "print(f\"Number of RGB Masks: {len(masks)}\")"
   ]
  },
  {
   "cell_type": "markdown",
   "id": "ff5d303c-d838-485e-add2-de027ce69a83",
   "metadata": {},
   "source": [
    "## II. Data Preprocessing\n",
    "[Back](#Thesis:-Segmentation-of-Electron-Microscopy-Kidney-Biopsy-Images)"
   ]
  },
  {
   "cell_type": "code",
   "execution_count": 6,
   "id": "57ca949c-c689-4bc5-8401-125e279e1b8d",
   "metadata": {},
   "outputs": [],
   "source": [
    "\"\"\" Cropping the image on the x-axis \"\"\"\n",
    "def crop_image(img, x_min, x_max):\n",
    "    cropped_img = img[:, x_min:x_max]\n",
    "    return cropped_img"
   ]
  },
  {
   "cell_type": "code",
   "execution_count": 7,
   "id": "58dbb44a-042e-4cd9-9074-d4b823b08fd9",
   "metadata": {},
   "outputs": [],
   "source": [
    "\"\"\" Creating and saving patches to a new directory \"\"\"\n",
    "def create_patches(images, masks, save_path, patch_size = 512):\n",
    "    size = (3584, 3072)\n",
    "\n",
    "    for idx, (x, y) in tqdm(enumerate(zip(images, masks)), total=len(images)):\n",
    "        \n",
    "        \"\"\" Extracting the name \"\"\"\n",
    "        name = x.split(\"/\")[-1].split(\"\\\\\")[-1].split(\".\")[0]\n",
    "\n",
    "        \"\"\" Reading Image and Mask \"\"\"\n",
    "        # Reads image as a grayscale image\n",
    "        x = cv.imread(x, 0)\n",
    "        \n",
    "        # Reads mask as a rgb image\n",
    "        y = cv.imread(y, 1)\n",
    "        \n",
    "        \n",
    "        \"\"\" Cropping Image \"\"\"\n",
    "        # Crops the image in order to fit \n",
    "        # with the Unet input dimensions\n",
    "        crop_image(x, 128, 3712)\n",
    "        crop_image(y, 128, 3712)\n",
    "\n",
    "        \n",
    "        i_patches = patchify(x, (patch_size, patch_size), step=patch_size)\n",
    "        m_patches = patchify(y, (patch_size, patch_size, 3), step=patch_size)\n",
    "\n",
    "        \"\"\" Spliting image into patches \"\"\"\n",
    "        for k in range(i_patches.shape[0]):\n",
    "            for l in range(i_patches.shape[1]):\n",
    "                tmp_image_name = f\"{name}\" + \"_\" + str(k) + \"_\" + str(l) + \".png\"\n",
    "                tmp_mask_name = f\"{name}\" + \"_\" + str(k) + \"_\" + str(l) + \" - rgb_mask.png\"\n",
    "\n",
    "                image_path = os.path.join(save_path, \"images\", tmp_image_name)\n",
    "                mask_path = os.path.join(save_path, \"masks\", tmp_mask_name)\n",
    "\n",
    "                cv.imwrite(image_path, i_patches[k, l, :, :])\n",
    "                cv.imwrite(mask_path, m_patches[k, l, 0, :, :,:])"
   ]
  },
  {
   "cell_type": "code",
   "execution_count": 8,
   "id": "64f40deb-f482-4c1e-82db-6fc0ee8b46fd",
   "metadata": {},
   "outputs": [],
   "source": [
    "# Uncomment to create and save the patches\n",
    "# create_patches(images_paths, masks_paths, \"C:/Users/Aristotelis/src/Thesis_src/dataset_patches\")"
   ]
  },
  {
   "cell_type": "code",
   "execution_count": 9,
   "id": "ece80fd6-8a96-477e-8d8d-18200487edad",
   "metadata": {},
   "outputs": [
    {
     "name": "stdout",
     "output_type": "stream",
     "text": [
      "Number of image patches: 420\n",
      "Number of rgb mask patches: 420\n"
     ]
    }
   ],
   "source": [
    "\"\"\" Loading the image and mask patches \"\"\"\n",
    "path = \"../dataset_patches\"\n",
    "\n",
    "image_patches = np.array(sorted(glob(os.path.join(path, \"images\", \"*.png\"))))\n",
    "mask_patches = np.array(sorted(glob(os.path.join(path, \"masks\", \"*.png\"))))\n",
    "\n",
    "print(f\"Number of image patches: {len(image_patches)}\")\n",
    "print(f\"Number of rgb mask patches: {len(mask_patches)}\")"
   ]
  },
  {
   "cell_type": "markdown",
   "id": "78fd32cf-cb32-4997-b881-f33c6928798e",
   "metadata": {},
   "source": [
    "### K - Fold Cross Validation"
   ]
  },
  {
   "cell_type": "code",
   "execution_count": 10,
   "id": "4f7640a4-d6f2-4913-ba0e-b380eff6ca57",
   "metadata": {
    "scrolled": true,
    "tags": []
   },
   "outputs": [
    {
     "name": "stdout",
     "output_type": "stream",
     "text": [
      "----------------------------------------------------------\n",
      "Fold 1\n",
      "Train: [7 2 8 3 9] Valid: [6 5 4] Test:  [0 1]\n",
      "----------------------------------------------------------\n",
      "Fold 2\n",
      "Train: [7 0 8 1 9] Valid: [6 5 4] Test:  [2 3]\n",
      "----------------------------------------------------------\n",
      "Fold 3\n",
      "Train: [7 0 8 1 9] Valid: [6 3 2] Test:  [4 5]\n",
      "----------------------------------------------------------\n",
      "Fold 4\n",
      "Train: [5 0 8 1 9] Valid: [4 3 2] Test:  [6 7]\n",
      "----------------------------------------------------------\n",
      "Fold 5\n",
      "Train: [5 0 6 1 7] Valid: [4 3 2] Test:  [8 9]\n"
     ]
    }
   ],
   "source": [
    "\"\"\" K - Fold Split (5 - Fold) \"\"\"\n",
    "\n",
    "# prepare cross validation\n",
    "kfold = KFold(n_splits=5)\n",
    "\n",
    "i = 0\n",
    "# enumerate splits\n",
    "for tmp_train, tmp_test in kfold.split(images):\n",
    "    train_set, valid_set = train_test_split(tmp_train, test_size=0.3, random_state=17)\n",
    "    test_set = tmp_test\n",
    "    print(\"----------------------------------------------------------\")\n",
    "    print(\"Fold\", i + 1)\n",
    "    print(\"Train:\", train_set, \"Valid:\", valid_set, \"Test: \", test_set)\n",
    "    i = i + 1\n",
    "    # uncomment break in case you want to run only for one fold\n",
    "    if i == 5:\n",
    "        break"
   ]
  },
  {
   "cell_type": "code",
   "execution_count": 11,
   "id": "eedaaacd-50f4-4996-ba38-baebe63bc598",
   "metadata": {
    "scrolled": true
   },
   "outputs": [
    {
     "name": "stdout",
     "output_type": "stream",
     "text": [
      "['../dataset\\\\images\\\\20B794  foto 12  3000x.tif'\n",
      " '../dataset\\\\images\\\\20B9593  foto 1  3000x.tif']\n"
     ]
    }
   ],
   "source": [
    "print(images[test_set])"
   ]
  },
  {
   "cell_type": "code",
   "execution_count": 12,
   "id": "1d8a69b4-d274-4b38-b524-bffccad009b8",
   "metadata": {},
   "outputs": [],
   "source": [
    "train_images = get_image_names(images, train_set)\n",
    "valid_images = get_image_names(images, valid_set)\n",
    "test_images = get_image_names(images, test_set)"
   ]
  },
  {
   "cell_type": "code",
   "execution_count": 13,
   "id": "6f64ef65-2d6b-4639-a2dd-d2cd4ce07e94",
   "metadata": {
    "scrolled": true
   },
   "outputs": [
    {
     "name": "stdout",
     "output_type": "stream",
     "text": [
      "Train Images:\n",
      " ['20B6215  foto 11  3000x', '20B10793  foto 14  3000x', '20B6494  foto 4  3000x', '20B13170  foto 3  3000x', '20B6652  foto 2  3000x']\n",
      "Validation Images:\n",
      " ['20B5822  foto 13  3000x', '20B5020  foto 12  3000x', '20B3318  foto 2  3000x']\n",
      "Test Images:\n",
      " ['20B794  foto 12  3000x', '20B9593  foto 1  3000x']\n"
     ]
    }
   ],
   "source": [
    "print(\"Train Images:\\n\", train_images)\n",
    "print(\"Validation Images:\\n\", valid_images)\n",
    "print(\"Test Images:\\n\", test_images)"
   ]
  },
  {
   "cell_type": "code",
   "execution_count": 14,
   "id": "dbeea0ed-8c76-4b26-8c1d-0f67245c6a7a",
   "metadata": {},
   "outputs": [],
   "source": [
    "train_img_patches, train_mask_patches = get_paths(image_patches, mask_patches, train_images)\n",
    "valid_img_patches, valid_mask_patches = get_paths(image_patches, mask_patches, valid_images)\n",
    "test_img_patches, test_mask_patches = get_paths(image_patches, mask_patches, test_images)"
   ]
  },
  {
   "cell_type": "markdown",
   "id": "2fc5e741",
   "metadata": {},
   "source": [
    "## III. Dataset and DataLoader\n",
    "[Back](#Thesis:-Segmentation-of-Electron-Microscopy-Kidney-Biopsy-Images)"
   ]
  },
  {
   "cell_type": "code",
   "execution_count": 15,
   "id": "331765ce",
   "metadata": {},
   "outputs": [],
   "source": [
    "train_transform = A.Compose(\n",
    "        [\n",
    "            A.Rotate(limit=45, p=0.5),\n",
    "            A.HorizontalFlip(p=0.5),\n",
    "            A.VerticalFlip(p=0.5),\n",
    "            A.GaussNoise(p=0.5)\n",
    "        ]\n",
    "    )"
   ]
  },
  {
   "cell_type": "code",
   "execution_count": 16,
   "id": "5c76eadc",
   "metadata": {},
   "outputs": [],
   "source": [
    "train_dataset = CustomDataset(train_img_patches, train_mask_patches, transform = train_transform)\n",
    "valid_dataset = CustomDataset(valid_img_patches, valid_mask_patches, transform = None)\n",
    "test_dataset = CustomDataset(test_img_patches, test_mask_patches, transform = None)"
   ]
  },
  {
   "cell_type": "code",
   "execution_count": 17,
   "id": "0a803cce",
   "metadata": {},
   "outputs": [
    {
     "name": "stdout",
     "output_type": "stream",
     "text": [
      "Train patches: 840\n",
      "Valid patches: 126\n",
      "Test patches: 84\n"
     ]
    }
   ],
   "source": [
    "print(\"Train patches:\", len(train_dataset))\n",
    "print(\"Valid patches:\", len(valid_dataset))\n",
    "print(\"Test patches:\", len(test_dataset))"
   ]
  },
  {
   "cell_type": "code",
   "execution_count": 18,
   "id": "82fe5103-2988-443c-ba3a-08a2672ada9c",
   "metadata": {},
   "outputs": [],
   "source": [
    "\"\"\" Hyperparameters \"\"\"\n",
    "batch_size = 2\n",
    "num_epochs = 50\n",
    "lr = 1e-6"
   ]
  },
  {
   "cell_type": "code",
   "execution_count": 19,
   "id": "72c106e3",
   "metadata": {},
   "outputs": [],
   "source": [
    "train_loader = DataLoader(\n",
    "        dataset=train_dataset,\n",
    "        batch_size=batch_size,\n",
    "        shuffle=True,\n",
    "        num_workers=1\n",
    "    )\n",
    "\n",
    "valid_loader = DataLoader(\n",
    "        dataset=valid_dataset,\n",
    "        batch_size=batch_size,\n",
    "        shuffle=False,\n",
    "        num_workers=1\n",
    "    )"
   ]
  },
  {
   "cell_type": "code",
   "execution_count": 20,
   "id": "34ed2c5c",
   "metadata": {},
   "outputs": [
    {
     "name": "stdout",
     "output_type": "stream",
     "text": [
      "420\n",
      "420.0\n"
     ]
    }
   ],
   "source": [
    "# Sanity check\n",
    "# printing train_loader length\n",
    "# it has to be len(train_dataset)/batch_size\n",
    "\n",
    "print(len(train_loader))\n",
    "print(len(train_dataset)/batch_size)"
   ]
  },
  {
   "cell_type": "markdown",
   "id": "16d2e8e1",
   "metadata": {},
   "source": [
    "## IV. The Model\n",
    "[Back](#Thesis:-Segmentation-of-Electron-Microscopy-Kidney-Biopsy-Images)"
   ]
  },
  {
   "cell_type": "code",
   "execution_count": 21,
   "id": "1f537b6f",
   "metadata": {
    "scrolled": true
   },
   "outputs": [
    {
     "name": "stdout",
     "output_type": "stream",
     "text": [
      "Device used: cuda\n"
     ]
    }
   ],
   "source": [
    "device = torch.device('cuda' if torch.cuda.is_available() else 'cpu')\n",
    "print(\"Device used:\", device)"
   ]
  },
  {
   "cell_type": "code",
   "execution_count": 22,
   "id": "bf205745",
   "metadata": {},
   "outputs": [],
   "source": [
    "model = build_unet()\n",
    "model = model.to(device)"
   ]
  },
  {
   "cell_type": "code",
   "execution_count": 23,
   "id": "6be32f07",
   "metadata": {
    "tags": []
   },
   "outputs": [
    {
     "name": "stdout",
     "output_type": "stream",
     "text": [
      "Model Architecture:\n",
      "\n",
      " build_unet(\n",
      "  (e1): encoder_block(\n",
      "    (conv): conv_block(\n",
      "      (conv1): Conv2d(1, 64, kernel_size=(3, 3), stride=(1, 1), padding=(1, 1))\n",
      "      (bn1): BatchNorm2d(64, eps=1e-05, momentum=0.1, affine=True, track_running_stats=True)\n",
      "      (conv2): Conv2d(64, 64, kernel_size=(3, 3), stride=(1, 1), padding=(1, 1))\n",
      "      (bn2): BatchNorm2d(64, eps=1e-05, momentum=0.1, affine=True, track_running_stats=True)\n",
      "      (relu): ReLU()\n",
      "    )\n",
      "    (pool): MaxPool2d(kernel_size=(2, 2), stride=(2, 2), padding=0, dilation=1, ceil_mode=False)\n",
      "  )\n",
      "  (e2): encoder_block(\n",
      "    (conv): conv_block(\n",
      "      (conv1): Conv2d(64, 128, kernel_size=(3, 3), stride=(1, 1), padding=(1, 1))\n",
      "      (bn1): BatchNorm2d(128, eps=1e-05, momentum=0.1, affine=True, track_running_stats=True)\n",
      "      (conv2): Conv2d(128, 128, kernel_size=(3, 3), stride=(1, 1), padding=(1, 1))\n",
      "      (bn2): BatchNorm2d(128, eps=1e-05, momentum=0.1, affine=True, track_running_stats=True)\n",
      "      (relu): ReLU()\n",
      "    )\n",
      "    (pool): MaxPool2d(kernel_size=(2, 2), stride=(2, 2), padding=0, dilation=1, ceil_mode=False)\n",
      "  )\n",
      "  (e3): encoder_block(\n",
      "    (conv): conv_block(\n",
      "      (conv1): Conv2d(128, 256, kernel_size=(3, 3), stride=(1, 1), padding=(1, 1))\n",
      "      (bn1): BatchNorm2d(256, eps=1e-05, momentum=0.1, affine=True, track_running_stats=True)\n",
      "      (conv2): Conv2d(256, 256, kernel_size=(3, 3), stride=(1, 1), padding=(1, 1))\n",
      "      (bn2): BatchNorm2d(256, eps=1e-05, momentum=0.1, affine=True, track_running_stats=True)\n",
      "      (relu): ReLU()\n",
      "    )\n",
      "    (pool): MaxPool2d(kernel_size=(2, 2), stride=(2, 2), padding=0, dilation=1, ceil_mode=False)\n",
      "  )\n",
      "  (e4): encoder_block(\n",
      "    (conv): conv_block(\n",
      "      (conv1): Conv2d(256, 512, kernel_size=(3, 3), stride=(1, 1), padding=(1, 1))\n",
      "      (bn1): BatchNorm2d(512, eps=1e-05, momentum=0.1, affine=True, track_running_stats=True)\n",
      "      (conv2): Conv2d(512, 512, kernel_size=(3, 3), stride=(1, 1), padding=(1, 1))\n",
      "      (bn2): BatchNorm2d(512, eps=1e-05, momentum=0.1, affine=True, track_running_stats=True)\n",
      "      (relu): ReLU()\n",
      "    )\n",
      "    (pool): MaxPool2d(kernel_size=(2, 2), stride=(2, 2), padding=0, dilation=1, ceil_mode=False)\n",
      "  )\n",
      "  (b): conv_block(\n",
      "    (conv1): Conv2d(512, 1024, kernel_size=(3, 3), stride=(1, 1), padding=(1, 1))\n",
      "    (bn1): BatchNorm2d(1024, eps=1e-05, momentum=0.1, affine=True, track_running_stats=True)\n",
      "    (conv2): Conv2d(1024, 1024, kernel_size=(3, 3), stride=(1, 1), padding=(1, 1))\n",
      "    (bn2): BatchNorm2d(1024, eps=1e-05, momentum=0.1, affine=True, track_running_stats=True)\n",
      "    (relu): ReLU()\n",
      "  )\n",
      "  (d1): decoder_block(\n",
      "    (up): ConvTranspose2d(1024, 512, kernel_size=(2, 2), stride=(2, 2))\n",
      "    (conv): conv_block(\n",
      "      (conv1): Conv2d(1024, 512, kernel_size=(3, 3), stride=(1, 1), padding=(1, 1))\n",
      "      (bn1): BatchNorm2d(512, eps=1e-05, momentum=0.1, affine=True, track_running_stats=True)\n",
      "      (conv2): Conv2d(512, 512, kernel_size=(3, 3), stride=(1, 1), padding=(1, 1))\n",
      "      (bn2): BatchNorm2d(512, eps=1e-05, momentum=0.1, affine=True, track_running_stats=True)\n",
      "      (relu): ReLU()\n",
      "    )\n",
      "  )\n",
      "  (d2): decoder_block(\n",
      "    (up): ConvTranspose2d(512, 256, kernel_size=(2, 2), stride=(2, 2))\n",
      "    (conv): conv_block(\n",
      "      (conv1): Conv2d(512, 256, kernel_size=(3, 3), stride=(1, 1), padding=(1, 1))\n",
      "      (bn1): BatchNorm2d(256, eps=1e-05, momentum=0.1, affine=True, track_running_stats=True)\n",
      "      (conv2): Conv2d(256, 256, kernel_size=(3, 3), stride=(1, 1), padding=(1, 1))\n",
      "      (bn2): BatchNorm2d(256, eps=1e-05, momentum=0.1, affine=True, track_running_stats=True)\n",
      "      (relu): ReLU()\n",
      "    )\n",
      "  )\n",
      "  (d3): decoder_block(\n",
      "    (up): ConvTranspose2d(256, 128, kernel_size=(2, 2), stride=(2, 2))\n",
      "    (conv): conv_block(\n",
      "      (conv1): Conv2d(256, 128, kernel_size=(3, 3), stride=(1, 1), padding=(1, 1))\n",
      "      (bn1): BatchNorm2d(128, eps=1e-05, momentum=0.1, affine=True, track_running_stats=True)\n",
      "      (conv2): Conv2d(128, 128, kernel_size=(3, 3), stride=(1, 1), padding=(1, 1))\n",
      "      (bn2): BatchNorm2d(128, eps=1e-05, momentum=0.1, affine=True, track_running_stats=True)\n",
      "      (relu): ReLU()\n",
      "    )\n",
      "  )\n",
      "  (d4): decoder_block(\n",
      "    (up): ConvTranspose2d(128, 64, kernel_size=(2, 2), stride=(2, 2))\n",
      "    (conv): conv_block(\n",
      "      (conv1): Conv2d(128, 64, kernel_size=(3, 3), stride=(1, 1), padding=(1, 1))\n",
      "      (bn1): BatchNorm2d(64, eps=1e-05, momentum=0.1, affine=True, track_running_stats=True)\n",
      "      (conv2): Conv2d(64, 64, kernel_size=(3, 3), stride=(1, 1), padding=(1, 1))\n",
      "      (bn2): BatchNorm2d(64, eps=1e-05, momentum=0.1, affine=True, track_running_stats=True)\n",
      "      (relu): ReLU()\n",
      "    )\n",
      "  )\n",
      "  (outputs): Conv2d(64, 3, kernel_size=(1, 1), stride=(1, 1))\n",
      ")\n"
     ]
    }
   ],
   "source": [
    "# Uncomment to view model architecture\n",
    "print(\"Model Architecture:\\n\\n\", model)"
   ]
  },
  {
   "cell_type": "markdown",
   "id": "3a51064c",
   "metadata": {},
   "source": [
    "## V. Loss function and Optimizer\n",
    "[Back](#Thesis:-Segmentation-of-Electron-Microscopy-Kidney-Biopsy-Images)"
   ]
  },
  {
   "cell_type": "code",
   "execution_count": 24,
   "id": "caf7230e",
   "metadata": {},
   "outputs": [],
   "source": [
    "# Binary Cross Entropy -> Binary Semantic Segmentation\n",
    "# loss_fn = DiceBCELoss()\n",
    "\n",
    "# Categorical Cross Entropy -> Multiclass Semantic Segmentation\n",
    "# loss_fn = DiceLoss()\n",
    "\n",
    "# Categorical Cross Entropy\n",
    "loss_fn = CELoss()\n",
    "\n",
    "# Dealing with the imbalanced dataset\n",
    "# Caution! CELoss() weight has to be a tensor\n",
    "# loss_fn = CELoss(weight=[0.45620364, 1.97879363, 3.30427707])"
   ]
  },
  {
   "cell_type": "code",
   "execution_count": 25,
   "id": "f18c5d6e",
   "metadata": {},
   "outputs": [],
   "source": [
    "# Adam optimizer\n",
    "optimizer = torch.optim.Adam(model.parameters(), lr=lr)#, weight_decay=0.1)\n",
    "\n",
    "# adjusting the learning rate based on the number of epochs by using a scheduler\n",
    "scheduler = torch.optim.lr_scheduler.ReduceLROnPlateau(optimizer, \"min\", patience=5, verbose=True)"
   ]
  },
  {
   "cell_type": "markdown",
   "id": "5165dfb4",
   "metadata": {},
   "source": [
    "## VI. Saving the model\n",
    "[Back](#Thesis:-Segmentation-of-Electron-Microscopy-Kidney-Biopsy-Images)"
   ]
  },
  {
   "cell_type": "code",
   "execution_count": 26,
   "id": "1ebce72b",
   "metadata": {},
   "outputs": [
    {
     "name": "stdout",
     "output_type": "stream",
     "text": [
      "Checkpoint path: files/2022_10_19_22_44_59_no_dropout_kfold_validation_fold_5.pth\n",
      "Loss file name: losses/2022_10_19_22_44_59_no_dropout_loss_fold_5.csv\n"
     ]
    }
   ],
   "source": [
    "# defining the checkpoint path to save the model weights\n",
    "timestr = time.strftime(\"%Y_%m_%d_%H_%M_%S_\")\n",
    "\n",
    "str = f\"no_dropout_lr_06_kfold_validation_fold_{i}.pth\"\n",
    "\n",
    "checkpoint_path = \"files/\" + timestr + str\n",
    "\n",
    "print(\"Checkpoint path:\", checkpoint_path)\n",
    "\n",
    "# defining a loss file to save the train and validation loss through time\n",
    "loss_file_name = f\"losses/{timestr}no_dropout_lr_06_loss_fold_{i}.csv\"\n",
    "\n",
    "print(\"Loss file name:\", loss_file_name)"
   ]
  },
  {
   "cell_type": "markdown",
   "id": "f7690395",
   "metadata": {
    "tags": []
   },
   "source": [
    "## VII. Training and evaluating the model\n",
    "[Back](#Thesis:-Segmentation-of-Electron-Microscopy-Kidney-Biopsy-Images)"
   ]
  },
  {
   "cell_type": "code",
   "execution_count": 27,
   "id": "7a5d05b0",
   "metadata": {},
   "outputs": [],
   "source": [
    "\"\"\" Training function to calculate the training epoch loss \"\"\"\n",
    "def train(model, loader, optimizer, loss_fn, device):\n",
    "    epoch_loss = 0.0\n",
    "    \n",
    "    # indicating that the model is training\n",
    "    # (important for dropout and batch_norm layers)\n",
    "    model.train()\n",
    "    \n",
    "    # going through all the batches in the loader\n",
    "    for x, y in loader:\n",
    "        # loading the images and the corresponding masks to the GPU device\n",
    "        x = x.to(device, dtype=torch.float32)\n",
    "        y = y.to(device, dtype=torch.float32)\n",
    "        \n",
    "        # setting the gradients to zero\n",
    "        optimizer.zero_grad()\n",
    "        \n",
    "        # making a prediction\n",
    "        y_pred = model(x)\n",
    "        \n",
    "        # finding the loss between the prediction and the ground truth\n",
    "        loss = loss_fn(y_pred, y)\n",
    "        \n",
    "        # performing back propagation\n",
    "        loss.backward()\n",
    "        \n",
    "        # optimizing the loss function using the optimizer\n",
    "        optimizer.step()\n",
    "        \n",
    "        # adding each batch loss to calculate later the average of all batches\n",
    "        epoch_loss += loss.item()\n",
    "        \n",
    "    # calculating the mean loss\n",
    "    epoch_loss = epoch_loss/len(loader)\n",
    "    return epoch_loss "
   ]
  },
  {
   "cell_type": "code",
   "execution_count": 28,
   "id": "908228d4",
   "metadata": {},
   "outputs": [],
   "source": [
    "\"\"\" Validation function to calculate the validation epoch loss \"\"\"\n",
    "def evaluate(model, loader, loss_fn, device):\n",
    "    epoch_loss = 0.0\n",
    "    \n",
    "    # turn off dropout, batch norm, etc. layers\n",
    "    # during model evaluation\n",
    "    model.eval()\n",
    "    \n",
    "    # turning off gradients computation\n",
    "    with torch.no_grad():\n",
    "        # going through all the batches in the loader\n",
    "        for x, y in loader:\n",
    "            # loading the images and the corresponding masks to the GPU device\n",
    "            x = x.to(device, dtype=torch.float32)\n",
    "            y = y.to(device, dtype=torch.float32)\n",
    "            \n",
    "            # making a prediction\n",
    "            y_pred = model(x)\n",
    "            \n",
    "            # finding the loss between the prediction and the ground truth\n",
    "            loss = loss_fn(y_pred, y)\n",
    "\n",
    "            # adding each batch loss to calculate later the average of all batches\n",
    "            epoch_loss += loss.item()\n",
    "            \n",
    "        # calculating the mean loss\n",
    "        epoch_loss = epoch_loss/len(loader)\n",
    "    return epoch_loss"
   ]
  },
  {
   "cell_type": "code",
   "execution_count": 29,
   "id": "9603c16b-de34-4a6b-8c17-d7ca9c17c4ba",
   "metadata": {},
   "outputs": [
    {
     "data": {
      "text/plain": [
       "'\\n\"\"\" Training the model \"\"\"\\n# Used as a checkpoint\\nbest_valid_loss = float(\"inf\")\\n\\ntrain_losses = []\\nvalid_losses = []\\nfor epoch in range(num_epochs):\\n    start_time = time.time()\\n\\n    train_loss = train(model, train_loader, optimizer, loss_fn, device)\\n    valid_loss = evaluate(model, valid_loader, loss_fn, device)\\n\\n\\n\\n    \"\"\" Saving the model \"\"\"\\n    if valid_loss < best_valid_loss:\\n        data_str = f\"Valid loss improved from {best_valid_loss:2.4f} to {valid_loss:2.4f}\"\\n        print(data_str)\\n\\n        best_valid_loss = valid_loss\\n\\n        # Just to save the model\\n        # torch.save(model.state_dict(), checkpoint_path)\\n\\n        # Creating a checkpoint to save the best epoch\\n        # model state dict (weights & biases), optimizer state,\\n        # training losses and validation losses for printing purpose\\n\\n        checkpoint = {\\n            \"epoch\": epoch,\\n            \"model_state\": model.state_dict(),\\n            \"optim_state\": optimizer.state_dict(),\\n            \"train_losses\": train_losses,\\n            \"valid_losses\": valid_losses\\n        }\\n\\n        torch.save(checkpoint, checkpoint_path)\\n\\n\\n    # Scheduler to reduce lr if not improved after a number of epochs\\n    scheduler.step(valid_loss)\\n\\n    end_time = time.time()\\n    epoch_mins, epoch_secs = epoch_time(start_time, end_time)\\n    data_str = f\"Epoch: {epoch+1:02} | Epoch Time: {epoch_mins}m {epoch_secs}s\\n\"\\n    data_str += f\"\\tTrain Loss: {train_loss:.3f}\\n\"\\n    data_str += f\"\\tVal. Loss: {valid_loss:.3f}\\n\"\\n    print(data_str)\\n\\n    # Keep track of the train and validation loss\\n    # in order to plot them later\\n    train_losses.append(train_loss)\\n    valid_losses.append(valid_loss)\\n\\n\\n    # dictionary of lists  \\n    loss_dict = {\\'train_loss\\': train_losses, \\'val_loss\\': valid_losses}  \\n\\n    df = pd.DataFrame(loss_dict) \\n\\n    # saving the dataframe \\n    df.to_csv(loss_file_name)\\n'"
      ]
     },
     "execution_count": 29,
     "metadata": {},
     "output_type": "execute_result"
    }
   ],
   "source": [
    "'''\n",
    "\"\"\" Training the model \"\"\"\n",
    "# Used as a checkpoint\n",
    "best_valid_loss = float(\"inf\")\n",
    "\n",
    "train_losses = []\n",
    "valid_losses = []\n",
    "for epoch in range(num_epochs):\n",
    "    start_time = time.time()\n",
    "\n",
    "    train_loss = train(model, train_loader, optimizer, loss_fn, device)\n",
    "    valid_loss = evaluate(model, valid_loader, loss_fn, device)\n",
    "\n",
    "\n",
    "\n",
    "    \"\"\" Saving the model \"\"\"\n",
    "    if valid_loss < best_valid_loss:\n",
    "        data_str = f\"Valid loss improved from {best_valid_loss:2.4f} to {valid_loss:2.4f}\"\n",
    "        print(data_str)\n",
    "\n",
    "        best_valid_loss = valid_loss\n",
    "\n",
    "        # Just to save the model\n",
    "        # torch.save(model.state_dict(), checkpoint_path)\n",
    "\n",
    "        # Creating a checkpoint to save the best epoch\n",
    "        # model state dict (weights & biases), optimizer state,\n",
    "        # training losses and validation losses for printing purpose\n",
    "\n",
    "        checkpoint = {\n",
    "            \"epoch\": epoch,\n",
    "            \"model_state\": model.state_dict(),\n",
    "            \"optim_state\": optimizer.state_dict(),\n",
    "            \"train_losses\": train_losses,\n",
    "            \"valid_losses\": valid_losses\n",
    "        }\n",
    "\n",
    "        torch.save(checkpoint, checkpoint_path)\n",
    "\n",
    "\n",
    "    # Scheduler to reduce lr if not improved after a number of epochs\n",
    "    scheduler.step(valid_loss)\n",
    "\n",
    "    end_time = time.time()\n",
    "    epoch_mins, epoch_secs = epoch_time(start_time, end_time)\n",
    "    data_str = f\"Epoch: {epoch+1:02} | Epoch Time: {epoch_mins}m {epoch_secs}s\\n\"\n",
    "    data_str += f\"\\tTrain Loss: {train_loss:.3f}\\n\"\n",
    "    data_str += f\"\\tVal. Loss: {valid_loss:.3f}\\n\"\n",
    "    print(data_str)\n",
    "\n",
    "    # Keep track of the train and validation loss\n",
    "    # in order to plot them later\n",
    "    train_losses.append(train_loss)\n",
    "    valid_losses.append(valid_loss)\n",
    "\n",
    "\n",
    "    # dictionary of lists  \n",
    "    loss_dict = {'train_loss': train_losses, 'val_loss': valid_losses}  \n",
    "\n",
    "    df = pd.DataFrame(loss_dict) \n",
    "\n",
    "    # saving the dataframe \n",
    "    df.to_csv(loss_file_name)\n",
    "'''"
   ]
  },
  {
   "cell_type": "markdown",
   "id": "ac8ea249",
   "metadata": {},
   "source": [
    "## VIII. Testing the model on the test data\n",
    "[Back](#Thesis:-Segmentation-of-Electron-Microscopy-Kidney-Biopsy-Images)"
   ]
  },
  {
   "cell_type": "code",
   "execution_count": 30,
   "id": "c797ab08-a8f5-49b7-a36a-5dc359cccae4",
   "metadata": {},
   "outputs": [],
   "source": [
    "from sklearn.metrics import accuracy_score, confusion_matrix, f1_score, jaccard_score, precision_score, recall_score, classification_report, cohen_kappa_score\n",
    "import seaborn as sns"
   ]
  },
  {
   "cell_type": "code",
   "execution_count": 31,
   "id": "aea5c59f-c6dd-4628-b927-1221313cfdc9",
   "metadata": {},
   "outputs": [],
   "source": [
    "def calculate_metrics(y_true, y_pred):\n",
    "    \n",
    "    categories = [\"background\", \"podocytes\", \"gbm\"]\n",
    "    \n",
    "    \"\"\" Ground truth \"\"\"\n",
    "    #y_true = y_true.cpu().numpy()\n",
    "    y_true = y_true.astype(np.uint8)\n",
    "    y_true = y_true.reshape(-1)\n",
    "\n",
    "    \"\"\" Prediction \"\"\"\n",
    "    #y_pred = y_pred.cpu().numpy()\n",
    "    y_pred = y_pred.astype(np.uint8)\n",
    "    y_pred = y_pred.reshape(-1)\n",
    "\n",
    "    mean_score_jaccard = jaccard_score(y_true, y_pred, zero_division = 1, average=\"macro\")\n",
    "    per_class_jaccard = jaccard_score(y_true, y_pred, zero_division = 1, average=None)\n",
    "    \n",
    "    mean_score_f1 = f1_score(y_true, y_pred, zero_division = 1, average=\"macro\")\n",
    "    per_class_f1 = f1_score(y_true, y_pred, zero_division = 1, average=None)\n",
    "\n",
    "    mean_score_recall = recall_score(y_true, y_pred, zero_division = 1, average=\"macro\")\n",
    "    per_class_recall = recall_score(y_true, y_pred, zero_division = 1, average=None)\n",
    "\n",
    "    mean_score_precision = precision_score(y_true, y_pred, zero_division = 1, average=\"macro\")\n",
    "    per_class_precision = precision_score(y_true, y_pred, zero_division = 1, average=None)\n",
    "\n",
    "    score_acc = accuracy_score(y_true, y_pred)\n",
    "    \n",
    "    kappa = cohen_kappa_score(y_true, y_pred)\n",
    "    \n",
    "    '''Calculate confusion matrix '''\n",
    "    cm = confusion_matrix(y_true, y_pred)\n",
    "\n",
    "    '''Calculate FP, FN, TP, TN per class '''\n",
    "    FP = cm.sum(axis=0) - np.diag(cm)  \n",
    "    FN = cm.sum(axis=1) - np.diag(cm)\n",
    "    TP = np.diag(cm)\n",
    "    TN = cm.sum() - (FP + FN + TP)\n",
    "    \n",
    "    # Sensitivity, hit rate, recall, or true positive rate\n",
    "    TPR = TP/(TP+FN)\n",
    "    # Specificity or true negative rate\n",
    "    TNR = TN/(TN+FP) \n",
    "    # Precision or positive predictive value\n",
    "    PPV = TP/(TP+FP)\n",
    "    # Negative predictive value\n",
    "    NPV = TN/(TN+FN)\n",
    "    # Fall out or false positive rate\n",
    "    FPR = FP/(FP+TN)\n",
    "    # False negative rate\n",
    "    FNR = FN/(TP+FN)\n",
    "    # False discovery rate\n",
    "    FDR = FP/(TP+FP)\n",
    " \n",
    "    print(\"\\t\\t\\t background  podocytes  gbm\\n\")\n",
    "    print(\"mIoU\\t\\t\\t\", mean_score_jaccard)\n",
    "    print(\"per class IoU\\t\\t\", per_class_jaccard)\n",
    "    print(\"\\n\")\n",
    "    print(\"mean f1 score\\t\\t\", mean_score_f1)\n",
    "    print(\"per class f1 score\\t\", per_class_f1)\n",
    "    print(\"\\n\")\n",
    "    print(\"mean recall\\t\\t\", mean_score_recall)\n",
    "    print(\"per class recall\\t\", per_class_recall)\n",
    "    print(\"\\n\")\n",
    "    print(\"mean TNR\\t\\t\", np.mean(TNR))\n",
    "    print(\"per class TNR\\t\\t\", TNR)\n",
    "    print(\"\\n\")\n",
    "    print(\"mean precision\\t\\t\", mean_score_precision)\n",
    "    print(\"per class precision\\t\", per_class_precision)\n",
    "    print(\"\\n\")\n",
    "    print(\"accuracy\\t\\t\", score_acc)\n",
    "    print(\"\\n\")\n",
    "    print(\"cohen's kappa\\t\\t\", kappa)\n",
    "    \n",
    "    print(\"\\n\")\n",
    "    print(\"classification report\")\n",
    "    print(classification_report(y_true, y_pred, target_names=categories))\n",
    "    \n",
    "    \n",
    "    print(\"confusion matrix:\\n\")\n",
    "    sns.heatmap(cm, annot=True, xticklabels=categories, yticklabels=categories)\n",
    "    plt.ylabel('True label')\n",
    "    plt.xlabel('Predicted label')\n",
    "    plt.show()\n",
    "    \n",
    "    # print(\"True positives per class\", TP)\n",
    "    # print(\"True negatives per class\", TN)\n",
    "    # print(\"False positives per class\", FP)\n",
    "    # print(\"False negatives per class\", FN)\n",
    "\n",
    "    # return [mean_score_jaccard, score_acc]"
   ]
  },
  {
   "cell_type": "code",
   "execution_count": 32,
   "id": "1fa1b926-594b-4985-bb9a-beadf4052373",
   "metadata": {},
   "outputs": [],
   "source": [
    "def mask_parse(mask):\n",
    "    mask = np.expand_dims(mask, axis=-1)    ## (512, 512, 1)\n",
    "    mask = np.concatenate([mask, mask, mask], axis=-1)  ## (512, 512, 3)\n",
    "    return mask"
   ]
  },
  {
   "cell_type": "code",
   "execution_count": 33,
   "id": "76909217-d81a-46b0-a6bf-1f2c068097fb",
   "metadata": {},
   "outputs": [
    {
     "name": "stdout",
     "output_type": "stream",
     "text": [
      "['../dataset\\\\images\\\\20B794  foto 12  3000x.tif'\n",
      " '../dataset\\\\images\\\\20B9593  foto 1  3000x.tif']\n",
      "['../dataset\\\\masks_rgb\\\\20B794  foto 12  3000x - rgb_mask.png'\n",
      " '../dataset\\\\masks_rgb\\\\20B9593  foto 1  3000x - rgb_mask.png']\n"
     ]
    }
   ],
   "source": [
    "test_x = images[test_set]\n",
    "test_y = masks[test_set]\n",
    "\n",
    "print(test_x)\n",
    "print(test_y)"
   ]
  },
  {
   "cell_type": "markdown",
   "id": "221f8c4e-7751-4487-8b98-787783a7f95d",
   "metadata": {},
   "source": [
    "### Loading the checkpoint file"
   ]
  },
  {
   "cell_type": "code",
   "execution_count": 34,
   "id": "14f7e63a-31a1-4f12-ab88-a6fbeb67bbe9",
   "metadata": {},
   "outputs": [],
   "source": [
    "# loading the checkpoint file from the training process\n",
    "checκpoint_path = \"files/2022_10_17_02_04_37_no_dropout_kfold_validation_fold_5.pth\""
   ]
  },
  {
   "cell_type": "code",
   "execution_count": 35,
   "id": "8fe5611c-d89b-4535-b904-b410f40329fa",
   "metadata": {},
   "outputs": [],
   "source": [
    "\"\"\" Load the checkpoint file \"\"\"\n",
    "device = torch.device('cuda' if torch.cuda.is_available() else 'cpu')\n",
    "\n",
    "model = build_unet()\n",
    "model = model.to(device)\n",
    "optimizer = torch.optim.Adam(model.parameters())\n",
    "\n",
    "# Loading the checkpoint \n",
    "checkpoint = torch.load(checκpoint_path)\n",
    "model.load_state_dict(checkpoint['model_state'])\n",
    "optimizer.load_state_dict(checkpoint['optim_state'])\n",
    "epoch = checkpoint['epoch']\n",
    "train_loss = checkpoint['train_losses']\n",
    "valid_loss = checkpoint['valid_losses']"
   ]
  },
  {
   "cell_type": "code",
   "execution_count": 36,
   "id": "6409610e-4319-46a9-8cae-a7592a5367e7",
   "metadata": {},
   "outputs": [],
   "source": [
    "\"\"\" UNet Hyperparameters \"\"\"\n",
    "H = 512\n",
    "W = 512\n",
    "size = (W, H)"
   ]
  },
  {
   "cell_type": "code",
   "execution_count": 37,
   "id": "07654aa3-5830-4c88-ae90-a5648116c284",
   "metadata": {
    "scrolled": false
   },
   "outputs": [
    {
     "name": "stderr",
     "output_type": "stream",
     "text": [
      "\r\n",
      "  0%|                                                                                            | 0/2 [00:00<?, ?it/s]"
     ]
    },
    {
     "name": "stdout",
     "output_type": "stream",
     "text": [
      "\n",
      " 20B794  foto 12  3000x\n",
      "\n",
      "\n",
      "\t\t\t background  podocytes  gbm\n",
      "\n",
      "mIoU\t\t\t 0.5457539722013399\n",
      "per class IoU\t\t [0.74520179 0.43171082 0.46034931]\n",
      "\n",
      "\n",
      "mean f1 score\t\t 0.695845074541254\n",
      "per class f1 score\t [0.85400072 0.60306986 0.63046465]\n",
      "\n",
      "\n",
      "mean recall\t\t 0.7219198573505764\n",
      "per class recall\t [0.84053618 0.58176375 0.74345964]\n",
      "\n",
      "\n",
      "mean TNR\t\t 0.8390109810362055\n",
      "per class TNR\t\t [0.65693642 0.92710314 0.93299339]\n",
      "\n",
      "\n",
      "mean precision\t\t 0.6803949434987576\n",
      "per class precision\t [0.86790365 0.62599589 0.54728529]\n",
      "\n",
      "\n",
      "accuracy\t\t 0.7861354464576358\n",
      "\n",
      "\n",
      "cohen's kappa\t\t 0.5195610716078733\n",
      "\n",
      "\n",
      "classification report\n",
      "              precision    recall  f1-score   support\n",
      "\n",
      "  background       0.87      0.84      0.85   8019512\n",
      "   podocytes       0.63      0.58      0.60   1908792\n",
      "         gbm       0.55      0.74      0.63   1081744\n",
      "\n",
      "    accuracy                           0.79  11010048\n",
      "   macro avg       0.68      0.72      0.70  11010048\n",
      "weighted avg       0.79      0.79      0.79  11010048\n",
      "\n",
      "confusion matrix:\n",
      "\n"
     ]
    },
    {
     "data": {
      "image/png": "[encoded data removed]",
      "text/plain": [
       "<Figure size 432x288 with 2 Axes>"
      ]
     },
     "metadata": {
      "needs_background": "light"
     },
     "output_type": "display_data"
    },
    {
     "name": "stderr",
     "output_type": "stream",
     "text": [
      "\r\n",
      " 50%|██████████████████████████████████████████                                          | 1/2 [00:41<00:41, 41.42s/it]"
     ]
    },
    {
     "name": "stdout",
     "output_type": "stream",
     "text": [
      "\n",
      " 20B9593  foto 1  3000x\n",
      "\n",
      "\n",
      "\t\t\t background  podocytes  gbm\n",
      "\n",
      "mIoU\t\t\t 0.5652411648702964\n",
      "per class IoU\t\t [0.81960806 0.23242981 0.64368562]\n",
      "\n",
      "\n",
      "mean f1 score\t\t 0.6870913455738052\n",
      "per class f1 score\t [0.9008622  0.37718953 0.78322231]\n",
      "\n",
      "\n",
      "mean recall\t\t 0.6381516632529269\n",
      "per class recall\t [0.95858605 0.27651942 0.67934952]\n",
      "\n",
      "\n",
      "mean TNR\t\t 0.7942773047059916\n",
      "per class TNR\t\t [0.42005431 0.96762453 0.99515308]\n",
      "\n",
      "\n",
      "mean precision\t\t 0.7891370460975263\n",
      "per class precision\t [0.84969549 0.59312275 0.9245929 ]\n",
      "\n",
      "\n",
      "accuracy\t\t 0.8366831824893043\n",
      "\n",
      "\n",
      "cohen's kappa\t\t 0.4729987411852634\n",
      "\n",
      "\n",
      "classification report\n",
      "              precision    recall  f1-score   support\n",
      "\n",
      "  background       0.85      0.96      0.90   8519182\n",
      "   podocytes       0.59      0.28      0.38   1605182\n",
      "         gbm       0.92      0.68      0.78    885684\n",
      "\n",
      "    accuracy                           0.84  11010048\n",
      "   macro avg       0.79      0.64      0.69  11010048\n",
      "weighted avg       0.82      0.84      0.82  11010048\n",
      "\n",
      "confusion matrix:\n",
      "\n"
     ]
    },
    {
     "data": {
      "image/png": "[encoded data removed]",
      "text/plain": [
       "<Figure size 432x288 with 2 Axes>"
      ]
     },
     "metadata": {
      "needs_background": "light"
     },
     "output_type": "display_data"
    },
    {
     "name": "stderr",
     "output_type": "stream",
     "text": [
      "100%|████████████████████████████████████████████████████████████████████████████████████| 2/2 [01:17<00:00, 38.61s/it]\n"
     ]
    }
   ],
   "source": [
    "model.eval()\n",
    "\n",
    "metrics_score = [0.0, 0.0, 0.0, 0.0, 0.0]\n",
    "time_taken = []\n",
    "\n",
    "for i, (x, y) in tqdm(enumerate(zip(test_x, test_y)), total=len(test_x)):\n",
    "    \"\"\"Extract the name \"\"\"\n",
    "    name = x.split(\"/\")[-1].split(\"\\\\\")[-1].split(\".\")[0]\n",
    "    print(\"\\n\",name)\n",
    "\n",
    "    ''' Reading image and mask '''\n",
    "    image = cv2.imread(x, cv2.IMREAD_GRAYSCALE)\n",
    "    mask = cv2.imread(y, cv2.IMREAD_COLOR)\n",
    "\n",
    "    # Cropping the given image in order to have the right dimensions\n",
    "    # the following code is actually used only on new images\n",
    "    if image.shape != (3072, 3584):\n",
    "        image = image[:, 128:3712]\n",
    "        mask = mask[:, 128:3712]\n",
    "\n",
    "    print(\"\\n\")\n",
    "    #print(image.shape)\n",
    "    #print(mask.shape)\n",
    "\n",
    "\n",
    "    mask = rgb2mask(mask)\n",
    "    #print(mask.shape)\n",
    "\n",
    "\n",
    "\n",
    "    ''' Creating patches of the image and the corresponding mask'''\n",
    "    patches_x = patchify(image, (512, 512), step=512)\n",
    "    #print(patches_x.shape)\n",
    "    patches_y = patchify(mask, (512, 512), step=512)\n",
    "    #print(patches_y.shape)\n",
    "\n",
    "    #pred_patches = np.empty(patches_y.shape)\n",
    "    #print(pred_patches.shape)\n",
    "    pred_patches = np.empty(patches_x.shape)\n",
    "    #print(pred_patches.shape)\n",
    "\n",
    "\n",
    "    for k in range(patches_x.shape[0]):\n",
    "        for l in range(patches_x.shape[1]):\n",
    "\n",
    "            x = np.expand_dims(patches_x[k, l, :, :], axis=0)                           # (1, 512, 512) \n",
    "            x = x/255.0\n",
    "            x = np.expand_dims(x, axis=0)                           # (1, 1, 512, 512) to create a batch (egw mallon den to xreiazomai)\n",
    "            #print(\"X_shape\", x.shape)\n",
    "            x = x.astype(np.float32)\n",
    "            x = torch.from_numpy(x)\n",
    "            x = x.to(device)\n",
    "\n",
    "\n",
    "            y = np.expand_dims(patches_y[k, l, :, :], axis=0)            # (1, 512, 512)\n",
    "            #y = np.expand_dims(y, axis=0)               # (1, 1, 512, 512) to create a batch\n",
    "            y = torch.from_numpy(y)\n",
    "            y = y.to(device)\n",
    "            #print(y.shape)\n",
    "\n",
    "            with torch.no_grad():\n",
    "                \"\"\" Prediction and Calculating FPS \"\"\"\n",
    "                start_time = time.time()\n",
    "                pred_y = model(x)\n",
    "\n",
    "\n",
    "                # we need a softmax to get a mask as an output\n",
    "                pred_y = torch.softmax(pred_y, dim=1)\n",
    "                #print(pred_y.shape)\n",
    "                pred_y = torch.argmax(pred_y, dim=1)\n",
    "                #pred_y = np.expand_dims(pred_y, axis=0)\n",
    "                #print(pred_y.shape)\n",
    "\n",
    "\n",
    "                total_time = time.time() - start_time\n",
    "                time_taken.append(total_time)\n",
    "\n",
    "                #score = calculate_metrics(y, pred_y)\n",
    "                #metrics_score = list(map(add, metrics_score, score))\n",
    "                pred_y = pred_y.cpu().numpy()           ## (1, 512, 512)\n",
    "                #pred_y = pred_y * 255 // 2\n",
    "                pred_y = np.squeeze(pred_y, axis=0)     ## (512, 512)\n",
    "                pred_y = np.array(pred_y, dtype=np.uint8)\n",
    "\n",
    "                ''' Saving the predicted patch to reconstruct the image at the next step '''\n",
    "                pred_patches[k, l, :, :] = pred_y\n",
    "\n",
    "\n",
    "            \"\"\" Saving masks \"\"\"\n",
    "            # (512, 512) -> (3, 512, 512)\n",
    "            image_3channel = mask_parse(patches_x[k, l, :, :])\n",
    "            ori_mask = mask_parse(patches_y[k, l, :, :])\n",
    "            pred_y = mask_parse(pred_patches[k, l, :, :])\n",
    "            line = np.ones((size[1], 10, 3)) * 128\n",
    "\n",
    "            #print(image_3channel.shape, ori_mask.shape, pred_y.shape)\n",
    "\n",
    "\n",
    "            #print(np.unique(pred_y))\n",
    "\n",
    "            cat_images = np.concatenate(\n",
    "                [image_3channel, line, ori_mask * 255 // 2, line, pred_y * 255 // 2], axis=1\n",
    "            )\n",
    "\n",
    "            # Creating an image where original image, ground truth and prediction \n",
    "            # are side by side to visualize and compare the results\n",
    "            \n",
    "            cv2.imwrite(f\"results/{name}\" + \"_\" + k.__str__() + \"_\" + l.__str__() +\".png\", cat_images)\n",
    "\n",
    "    reconstructed_image = unpatchify(pred_patches * 255 // 2, image.shape)\n",
    "    #reconstructed_image = mask_parse(reconstructed_image)\n",
    "    #print(reconstructed_image.shape)\n",
    "    cv2.imwrite(f\"results_no_patches/{name}.png\", reconstructed_image)\n",
    "    #cv2.imwrite(f\"results_no_patches/{name}.png\", reconstructed_image)\n",
    "\n",
    "\n",
    "    pred_mask = unpatchify(pred_patches, image.shape)\n",
    "\n",
    "\n",
    "    score = calculate_metrics(mask, pred_mask)\n",
    "    #print(score)\n",
    "\n",
    "    #break"
   ]
  },
  {
   "cell_type": "markdown",
   "id": "fa81a84e-90fc-474e-aca6-e7e223f8c85e",
   "metadata": {},
   "source": [
    "## IX. Results\n",
    "[Back](#Thesis:-Segmentation-of-Electron-Microscopy-Kidney-Biopsy-Images)"
   ]
  }
 ],
 "metadata": {
  "kernelspec": {
   "display_name": "Python 3 (ipykernel)",
   "language": "python",
   "name": "python3"
  },
  "language_info": {
   "codemirror_mode": {
    "name": "ipython",
    "version": 3
   },
   "file_extension": ".py",
   "mimetype": "text/x-python",
   "name": "python",
   "nbconvert_exporter": "python",
   "pygments_lexer": "ipython3",
   "version": "3.9.7"
  },
  "vscode": {
   "interpreter": {
    "hash": "821a9eaff0514b604ac65ccf05f07f24497f535bd8a55e4b1375df66e8103be2"
   }
  }
 },
 "nbformat": 4,
 "nbformat_minor": 5
}
